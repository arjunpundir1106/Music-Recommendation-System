{
  "nbformat": 4,
  "nbformat_minor": 0,
  "metadata": {
    "colab": {
      "name": "Untitled12.ipynb",
      "provenance": [],
      "authorship_tag": "ABX9TyO57gVya+YYuxoMkL6Qemc9",
      "include_colab_link": true
    },
    "kernelspec": {
      "name": "python3",
      "display_name": "Python 3"
    },
    "language_info": {
      "name": "python"
    }
  },
  "cells": [
    {
      "cell_type": "markdown",
      "metadata": {
        "id": "view-in-github",
        "colab_type": "text"
      },
      "source": [
        "<a href=\"https://colab.research.google.com/github/arjunpundir1106/Music-Recommendation-System/blob/main/Music_recommender.ipynb\" target=\"_parent\"><img src=\"https://colab.research.google.com/assets/colab-badge.svg\" alt=\"Open In Colab\"/></a>"
      ]
    },
    {
      "cell_type": "code",
      "execution_count": 1,
      "metadata": {
        "colab": {
          "base_uri": "https://localhost:8080/"
        },
        "id": "gkLjk543Z4OU",
        "outputId": "df9bfc82-801a-4090-d22a-e007bf242c18"
      },
      "outputs": [
        {
          "output_type": "stream",
          "name": "stdout",
          "text": [
            "Looking in indexes: https://pypi.org/simple, https://us-python.pkg.dev/colab-wheels/public/simple/\n",
            "Collecting music-recommender\n",
            "  Downloading music_recommender-1.0.5-py2.py3-none-any.whl (3.5 kB)\n",
            "Requirement already satisfied: requests in /usr/local/lib/python3.7/dist-packages (from music-recommender) (2.23.0)\n",
            "Requirement already satisfied: six in /usr/local/lib/python3.7/dist-packages (from music-recommender) (1.15.0)\n",
            "Requirement already satisfied: certifi>=2017.4.17 in /usr/local/lib/python3.7/dist-packages (from requests->music-recommender) (2022.5.18.1)\n",
            "Requirement already satisfied: chardet<4,>=3.0.2 in /usr/local/lib/python3.7/dist-packages (from requests->music-recommender) (3.0.4)\n",
            "Requirement already satisfied: urllib3!=1.25.0,!=1.25.1,<1.26,>=1.21.1 in /usr/local/lib/python3.7/dist-packages (from requests->music-recommender) (1.24.3)\n",
            "Requirement already satisfied: idna<3,>=2.5 in /usr/local/lib/python3.7/dist-packages (from requests->music-recommender) (2.10)\n",
            "Installing collected packages: music-recommender\n",
            "Successfully installed music-recommender-1.0.5\n"
          ]
        }
      ],
      "source": [
        "pip install music-recommender"
      ]
    },
    {
      "cell_type": "code",
      "source": [
        "from recommender.api import Recommender\n",
        "\n",
        "recommender = Recommender(\"f2629ee938134679b53294178eb6496a\", \"6951c313a9bb41f9b3d6a1c2be3182ca\")\n",
        "recommender.artists = 'Diljit Dosanjh'\n",
        "recommender.genres = [\n",
        "    'country',\n",
        "    'party'\n",
        "]\n",
        "recommender.track_attributes = {\n",
        "    'danceability': 3.0\n",
        "}\n",
        "recommendations = recommender.find_recommendations()\n",
        "for recommendation in recommendations['tracks']:\n",
        "    print(\"%s - %s\" % (recommendation['name'], recommendation['artists'][0]['name']))\n"
      ],
      "metadata": {
        "colab": {
          "base_uri": "https://localhost:8080/"
        },
        "id": "F0mpB5LkZ5Xr",
        "outputId": "59ceb8f4-ad18-43af-eb7c-95f5e6731b6d"
      },
      "execution_count": 4,
      "outputs": [
        {
          "output_type": "stream",
          "name": "stdout",
          "text": [
            "Big Scene - Diljit Dosanjh\n",
            "Whiskey Lullaby - Brad Paisley\n",
            "Jaani Tera Naa - Sunanda Sharma\n",
            "Speak to a Girl - Tim McGraw\n",
            "Check Yes Or No - George Strait\n",
            "Teeje Week - Jordan Sandhu\n",
            "Help Me Hold On - Travis Tritt\n",
            "What Ve - Diljit Dosanjh\n",
            "Khabbi Khaan - Ammy Virk\n",
            "Bartender (Sittin' At A Bar) - Rehab\n",
            "The Shake - Neal McCoy\n",
            "What Ever Happened - The Swon Brothers\n",
            "Gallan Mithiyan - Mankirt Aulakh\n",
            "Sohne Lagde - Sidhu Moose Wala\n",
            "Fall - Clay Walker\n",
            "Huntin', Fishin' And Lovin' Every Day - Luke Bryan\n",
            "Piya More - Mika Singh\n",
            "Same Beef - Bohemia\n",
            "Youngest In Charge - Sidhu Moose Wala\n",
            "Small Town USA - Justin Moore\n"
          ]
        }
      ]
    },
    {
      "cell_type": "code",
      "source": [
        ""
      ],
      "metadata": {
        "id": "WNFcFN8vaE9K"
      },
      "execution_count": null,
      "outputs": []
    }
  ]
}